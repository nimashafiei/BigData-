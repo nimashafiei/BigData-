{
  "cells": [
    {
      "cell_type": "markdown",
      "metadata": {
        "id": "E6-3qQzaxNGo"
      },
      "source": [
        "BitcoinHeistRansomwareAddressDataset Data Set\n",
        "https://archive.ics.uci.edu/ml/datasets/BitcoinHeistRansomwareAddressDataset"
      ]
    },
    {
      "cell_type": "markdown",
      "metadata": {
        "id": "eLvAZZqTxa5M"
      },
      "source": [
        "Nima Shafiei Rezvani Nezhad - nima.shafieirezvani@studio.unibo.it\n"
      ]
    },
    {
      "cell_type": "markdown",
      "metadata": {
        "id": "OlRDPzYMxkgD"
      },
      "source": [
        "Install  libraries"
      ]
    },
    {
      "cell_type": "code",
      "execution_count": 1,
      "metadata": {
        "colab": {
          "base_uri": "https://localhost:8080/"
        },
        "id": "G-K3e_UsaGFK",
        "outputId": "04706b21-605c-4907-d72f-528681778b23"
      },
      "outputs": [
        {
          "name": "stdout",
          "output_type": "stream",
          "text": [
            "Looking in indexes: https://pypi.org/simple, https://us-python.pkg.dev/colab-wheels/public/simple/\n",
            "Collecting pyspark\n",
            "  Downloading pyspark-3.3.1.tar.gz (281.4 MB)\n",
            "\u001b[2K     \u001b[90m━━━━━━━━━━━━━━━━━━━━━━━━━━━━━━━━━━━━━━━\u001b[0m \u001b[32m281.4/281.4 MB\u001b[0m \u001b[31m4.2 MB/s\u001b[0m eta \u001b[36m0:00:00\u001b[0m\n",
            "\u001b[?25h  Preparing metadata (setup.py) ... \u001b[?25l\u001b[?25hdone\n",
            "Collecting py4j==0.10.9.5\n",
            "  Downloading py4j-0.10.9.5-py2.py3-none-any.whl (199 kB)\n",
            "\u001b[2K     \u001b[90m━━━━━━━━━━━━━━━━━━━━━━━━━━━━━━━━━━━━━━\u001b[0m \u001b[32m199.7/199.7 KB\u001b[0m \u001b[31m15.8 MB/s\u001b[0m eta \u001b[36m0:00:00\u001b[0m\n",
            "\u001b[?25hBuilding wheels for collected packages: pyspark\n",
            "  Building wheel for pyspark (setup.py) ... \u001b[?25l\u001b[?25hdone\n",
            "  Created wheel for pyspark: filename=pyspark-3.3.1-py2.py3-none-any.whl size=281845512 sha256=a346fedf564ab862fadbd80c96a9ad0191128291ee3d22cb8bea93cec0dfef74\n",
            "  Stored in directory: /root/.cache/pip/wheels/43/dc/11/ec201cd671da62fa9c5cc77078235e40722170ceba231d7598\n",
            "Successfully built pyspark\n",
            "Installing collected packages: py4j, pyspark\n",
            "Successfully installed py4j-0.10.9.5 pyspark-3.3.1\n",
            "Looking in indexes: https://pypi.org/simple, https://us-python.pkg.dev/colab-wheels/public/simple/\n",
            "Collecting findspark\n",
            "  Downloading findspark-2.0.1-py2.py3-none-any.whl (4.4 kB)\n",
            "Installing collected packages: findspark\n",
            "Successfully installed findspark-2.0.1\n"
          ]
        }
      ],
      "source": [
        "!pip install pyspark\n",
        "!pip install findspark"
      ]
    },
    {
      "cell_type": "markdown",
      "metadata": {
        "id": "Rznw19v5xozw"
      },
      "source": [
        "Import required libraries"
      ]
    },
    {
      "cell_type": "code",
      "execution_count": 65,
      "metadata": {
        "id": "BwLjUhtaaL2y"
      },
      "outputs": [],
      "source": [
        "import os\n",
        "import findspark\n",
        "from pyspark.sql import SparkSession\n",
        "from pyspark import SparkContext\n",
        "findspark.init()\n",
        "from pyspark.sql import SparkSession\n",
        "\n",
        "from pyspark.ml.feature import CountVectorizer,StringIndexer, RegexTokenizer,StopWordsRemover, OneHotEncoder\n",
        "from pyspark.sql.functions import col, udf, regexp_replace, isnull, isnan, when, count\n",
        "from pyspark.ml.feature import StandardScaler\n",
        "from pyspark.sql.types import StringType,IntegerType\n",
        "from pyspark.ml.classification import NaiveBayes\n",
        "from pyspark.ml.evaluation import MulticlassClassificationEvaluator\n",
        "from pyspark.mllib.regression import LabeledPoint\n",
        "from pyspark.ml.feature import VectorAssembler\n",
        "from pyspark.ml.stat import Correlation\n",
        "\n",
        "from sklearn.model_selection import train_test_split, GridSearchCV\n",
        "from pyspark.ml.classification import LogisticRegression, RandomForestClassifier, NaiveBayes\n",
        "\n",
        "from sklearn.pipeline import Pipeline\n",
        "from pyspark.ml.pipeline import Pipeline\n",
        "\n",
        "from pyspark.ml.evaluation import MulticlassClassificationEvaluator\n",
        "\n",
        "from sklearn.metrics import precision_recall_fscore_support, roc_auc_score, accuracy_score, recall_score\n",
        "\n",
        "import matplotlib.pyplot as plt\n",
        "import seaborn as sns\n"
      ]
    },
    {
      "cell_type": "code",
      "execution_count": null,
      "metadata": {},
      "outputs": [],
      "source": [
        "os.environ[\"JAVA_HOME\"] = \"C:\\Program Files\\Java\\jdk-19\"\n",
        "os.environ[\"SPARK_HOME\"] = 'C:\\\\Users\\\\Nima_S_H\\\\Desktop\\\\BDAVM\\\\spark'\n",
        "findspark.init()"
      ]
    },
    {
      "cell_type": "markdown",
      "metadata": {
        "id": "2VZQCbrzx2F_"
      },
      "source": [
        "Initialize default configs using SparkSession"
      ]
    },
    {
      "cell_type": "code",
      "execution_count": 3,
      "metadata": {
        "id": "0qd3cPsZeYx-"
      },
      "outputs": [],
      "source": [
        "spark = SparkSession.builder.master(\"local\").appName(\"BitcoinHeistData\").config(\"spark.executor.memory\", \"1gb\").getOrCreate()"
      ]
    },
    {
      "cell_type": "code",
      "execution_count": 4,
      "metadata": {
        "id": "JsLRQ3UeedPL"
      },
      "outputs": [],
      "source": [
        "sc = spark.sparkContext"
      ]
    },
    {
      "cell_type": "markdown",
      "metadata": {
        "id": "8iE8_0kax6dX"
      },
      "source": [
        "Load dataset from local machine as a csv file"
      ]
    },
    {
      "cell_type": "code",
      "execution_count": 5,
      "metadata": {
        "id": "Tvcy91Usegnz"
      },
      "outputs": [],
      "source": [
        "df = spark.read.csv('BitcoinHeistData.csv', header = 'True',inferSchema='True')"
      ]
    },
    {
      "cell_type": "markdown",
      "metadata": {
        "id": "BXv4fTUqx8l5"
      },
      "source": [
        "Display top 20 rows"
      ]
    },
    {
      "cell_type": "code",
      "execution_count": 6,
      "metadata": {
        "colab": {
          "base_uri": "https://localhost:8080/"
        },
        "id": "YW-uFwdLemqz",
        "outputId": "138fa80c-f8f9-4755-c3af-c71024a7f104"
      },
      "outputs": [
        {
          "name": "stdout",
          "output_type": "stream",
          "text": [
            "+--------------------+----+---+------+-------------------+-----+------+---------+--------+--------------------+\n",
            "|             address|year|day|length|             weight|count|looped|neighbors|  income|               label|\n",
            "+--------------------+----+---+------+-------------------+-----+------+---------+--------+--------------------+\n",
            "|111K8kZAEnJg245r2...|2017| 11|    18|0.00833333333333333|    1|     0|        2|1.0005E8|     princetonCerber|\n",
            "|1123pJv8jzeFQaCV4...|2016|132|    44|      2.44140625E-4|    1|     0|        1|   1.0E8|      princetonLocky|\n",
            "|112536im7hy6wtKbp...|2016|246|     0|                1.0|    1|     0|        2|   2.0E8|     princetonCerber|\n",
            "|1126eDRw2wqSkWosj...|2016|322|    72|         0.00390625|    1|     0|        2|  7.12E7|     princetonCerber|\n",
            "|1129TSjKtx65E35Gi...|2016|238|   144| 0.0728484071989931|  456|     0|        1|   2.0E8|      princetonLocky|\n",
            "|112AmFATxzhuSpvtz...|2016| 96|   144| 0.0846139993386755| 2821|     0|        1|   5.0E7|      princetonLocky|\n",
            "|112E91jxS2qrQY1z7...|2016|225|   142| 0.0020885186101272|  881|     0|        2|   1.0E8|     princetonCerber|\n",
            "|112eFykaD53KEkKeY...|2016|324|    78|         0.00390625|    1|     0|        2|1.0099E8|     princetonCerber|\n",
            "|112FTiRdJjMrNgEtd...|2016|298|   144|    2.3028283088657| 4220|     0|        2|   8.0E7|     princetonCerber|\n",
            "|112GocBgFSnaote6k...|2016| 62|   112|3.72529029846191E-9|    1|     0|        1|   5.0E7|      princetonLocky|\n",
            "|112gXL4AeJ62DX3ht...|2013|317|     4|0.00714285714285714|    2|     0|        1|   1.0E8|montrealCryptoLocker|\n",
            "|112nEBUadWiMxzUUA...|2016|247|     0|                1.0|    1|     0|        2|1.0856E8|     princetonCerber|\n",
            "|112Ns49UobQn1cX1G...|2016|146|   144|  0.877484787195917| 4817|     0|        1|1.0402E8|    montrealCryptXXX|\n",
            "|112vq2Wt7Mo8RD5jC...|2017|  3|     4|           0.015625|    1|     0|        2|   5.6E7|     princetonCerber|\n",
            "|112wED5uHhY1aiSaW...|2016|158|    56|    3.0517578125E-5|    1|     0|        1|   1.2E8|    montrealCryptXXX|\n",
            "|112wED5uHhY1aiSaW...|2016|156|     8|               0.75|    2|     0|        4|   2.4E8|    montrealCryptXXX|\n",
            "|112wjYgWapZU8gTPR...|2016|273|   144|0.00874675210903953| 1168|     0|        1|   5.5E8|      princetonLocky|\n",
            "|1131P1hjj7h9NinHR...|2016| 56|     4|  0.145833333333333|    4|     0|        1|   5.0E8|      princetonLocky|\n",
            "|1132fapAqQVQJjZip...|2016|165|    10| 0.0119047619047619|    1|     0|        2|   2.0E8|     princetonCerber|\n",
            "|1136MFiqBmoVWpqWr...|2016|109|     0|                0.5|    1|     0|        1|  1.01E8|      princetonLocky|\n",
            "+--------------------+----+---+------+-------------------+-----+------+---------+--------+--------------------+\n",
            "only showing top 20 rows\n",
            "\n"
          ]
        }
      ],
      "source": [
        "df.show()"
      ]
    },
    {
      "cell_type": "markdown",
      "metadata": {
        "id": "rCNCjHFUyLFc"
      },
      "source": [
        "Display the shape of DataSet"
      ]
    },
    {
      "cell_type": "code",
      "execution_count": 45,
      "metadata": {
        "colab": {
          "base_uri": "https://localhost:8080/"
        },
        "id": "H9vn1mwreoiD",
        "outputId": "c634c00e-d291-4c66-cd3b-04433188067e"
      },
      "outputs": [
        {
          "name": "stdout",
          "output_type": "stream",
          "text": [
            "(665173, 10)\n"
          ]
        }
      ],
      "source": [
        "print((df.count(), len(df.columns)))"
      ]
    },
    {
      "cell_type": "markdown",
      "metadata": {
        "id": "NN3CWM381qa-"
      },
      "source": [
        "Check null values from dataframe\n"
      ]
    },
    {
      "cell_type": "code",
      "execution_count": 49,
      "metadata": {
        "colab": {
          "base_uri": "https://localhost:8080/"
        },
        "id": "X1K84hYY0mi-",
        "outputId": "bff3c9fb-15a4-4998-8d17-75d051e305cc"
      },
      "outputs": [
        {
          "name": "stdout",
          "output_type": "stream",
          "text": [
            "+-------+----+---+------+------+-----+------+---------+------+-----+\n",
            "|address|year|day|length|weight|count|looped|neighbors|income|label|\n",
            "+-------+----+---+------+------+-----+------+---------+------+-----+\n",
            "|      0|   0|  0|     0|     0|    0|     0|        0|     0|    0|\n",
            "+-------+----+---+------+------+-----+------+---------+------+-----+\n",
            "\n"
          ]
        }
      ],
      "source": [
        "df.select([count(when(isnan(c), c)).alias(c) for c in df.columns]).show()"
      ]
    },
    {
      "cell_type": "markdown",
      "metadata": {
        "id": "WQmKH9nlyOG6"
      },
      "source": [
        "Draw Corrolation matrix over DataSet"
      ]
    },
    {
      "cell_type": "code",
      "execution_count": 17,
      "metadata": {
        "colab": {
          "base_uri": "https://localhost:8080/",
          "height": 504
        },
        "id": "Lkh2_mO2pmCC",
        "outputId": "798ca889-ba98-4484-d6bc-7067e72f690b"
      },
      "outputs": [
        {
          "data": {
            "text/plain": [
              "<matplotlib.axes._subplots.AxesSubplot at 0x7f9ac36fec40>"
            ]
          },
          "execution_count": 17,
          "metadata": {},
          "output_type": "execute_result"
        },
        {
          "data": {
            "image/png": "[encoded data removed]",
            "text/plain": [
              "<Figure size 864x576 with 2 Axes>"
            ]
          },
          "metadata": {
            "needs_background": "light"
          },
          "output_type": "display_data"
        }
      ],
      "source": [
        "pandasDF = df.toPandas()\n",
        "corr_test = pandasDF.corr()\n",
        "\n",
        "plt.figure(figsize = (12,8))\n",
        "sns.heatmap(corr_test,alpha=0.95)"
      ]
    },
    {
      "cell_type": "code",
      "execution_count": 18,
      "metadata": {
        "colab": {
          "base_uri": "https://localhost:8080/",
          "height": 391
        },
        "id": "mMmDLqxy5DGN",
        "outputId": "5eb727a2-fe3c-4606-9001-0565df3e91f3"
      },
      "outputs": [
        {
          "data": {
            "text/plain": [
              "<BarContainer object of 2 artists>"
            ]
          },
          "execution_count": 18,
          "metadata": {},
          "output_type": "execute_result"
        },
        {
          "data": {
            "image/png": "[encoded data removed]",
            "text/plain": [
              "<Figure size 576x432 with 1 Axes>"
            ]
          },
          "metadata": {
            "needs_background": "light"
          },
          "output_type": "display_data"
        }
      ],
      "source": [
        "label_white = []\n",
        "label_black = []\n",
        "for element in df.collect():\n",
        "  if element['label'] == 'white':\n",
        "      label_white.append(element['label'])\n",
        "  else:\n",
        "      label_black.append(element['label'])\n",
        "\n",
        "x_ax = ['White','Black']\n",
        "y_ax = [len(label_white),len(label_black)]\n",
        "\n",
        "plt.figure(figsize = (8,6))\n",
        "plt.bar(x_ax,y_ax)"
      ]
    },
    {
      "cell_type": "markdown",
      "metadata": {
        "id": "A9ICIZuW0Fk9"
      },
      "source": [
        "There are a lot of different unique malware types, but in a holistic view, the label can be viewed as 'white' (not associated with malware) or not (associated with malware). The value_counts(normalize=True) returns the normalized values for each unique element in the series, and it shows that ~98.58% of the dataset is labeled white, while the remaining 1.42% is not white. This menas that approximately 2,875,284 of 2,916,697 instances are white while 41,413 instances are not. Most of the addresses are white. The dataset is quite skewed, and is prone to errors because the dataset will very likely overfit the algorithm.\n"
      ]
    },
    {
      "cell_type": "code",
      "execution_count": 19,
      "metadata": {
        "colab": {
          "base_uri": "https://localhost:8080/"
        },
        "id": "1vljR6k49P8T",
        "outputId": "3e056c04-6dc8-48b0-b95d-31f27d9c814c"
      },
      "outputs": [
        {
          "data": {
            "text/plain": [
              "defaultdict(int,\n",
              "            {'princetonCerber': 9223,\n",
              "             'princetonLocky': 6625,\n",
              "             'montrealCryptoLocker': 9315,\n",
              "             'montrealCryptXXX': 2419,\n",
              "             'paduaCryptoWall': 12390,\n",
              "             'montrealWannaCry': 28,\n",
              "             'montrealDMALockerv3': 354,\n",
              "             'montrealCryptoTorLocker2015': 55,\n",
              "             'montrealSamSam': 62,\n",
              "             'montrealFlyper': 9,\n",
              "             'montrealNoobCrypt': 483,\n",
              "             'montrealDMALocker': 251,\n",
              "             'montrealGlobe': 32,\n",
              "             'montrealEDA2': 6,\n",
              "             'paduaKeRanger': 10,\n",
              "             'montrealVenusLocker': 7,\n",
              "             'montrealXTPLocker': 8,\n",
              "             'paduaJigsaw': 2,\n",
              "             'montrealGlobev3': 34,\n",
              "             'montrealJigSaw': 4,\n",
              "             'montrealXLockerv5.0': 7,\n",
              "             'montrealXLocker': 1,\n",
              "             'montrealRazy': 13,\n",
              "             'montrealCryptConsole': 7,\n",
              "             'montrealGlobeImposter': 55,\n",
              "             'montrealSam': 1,\n",
              "             'montrealComradeCircle': 1,\n",
              "             'montrealAPT': 11,\n",
              "             'white': 623760})"
            ]
          },
          "execution_count": 19,
          "metadata": {},
          "output_type": "execute_result"
        }
      ],
      "source": [
        "df.select(\"label\").rdd.flatMap(lambda x: x).countByValue()"
      ]
    },
    {
      "cell_type": "markdown",
      "metadata": {
        "id": "WFdQy2Fi0Mgg"
      },
      "source": [
        "Show how the data is distributed."
      ]
    },
    {
      "cell_type": "code",
      "execution_count": 20,
      "metadata": {
        "colab": {
          "base_uri": "https://localhost:8080/",
          "height": 1000
        },
        "id": "QPd7CQeI7ZL_",
        "outputId": "dd7d9b51-7f04-417c-9f64-d48948b35adb"
      },
      "outputs": [
        {
          "name": "stderr",
          "output_type": "stream",
          "text": [
            "/usr/local/lib/python3.8/dist-packages/seaborn/distributions.py:2619: FutureWarning: `distplot` is a deprecated function and will be removed in a future version. Please adapt your code to use either `displot` (a figure-level function with similar flexibility) or `histplot` (an axes-level function for histograms).\n",
            "  warnings.warn(msg, FutureWarning)\n",
            "/usr/local/lib/python3.8/dist-packages/seaborn/distributions.py:2619: FutureWarning: `distplot` is a deprecated function and will be removed in a future version. Please adapt your code to use either `displot` (a figure-level function with similar flexibility) or `histplot` (an axes-level function for histograms).\n",
            "  warnings.warn(msg, FutureWarning)\n",
            "/usr/local/lib/python3.8/dist-packages/seaborn/distributions.py:2619: FutureWarning: `distplot` is a deprecated function and will be removed in a future version. Please adapt your code to use either `displot` (a figure-level function with similar flexibility) or `histplot` (an axes-level function for histograms).\n",
            "  warnings.warn(msg, FutureWarning)\n",
            "/usr/local/lib/python3.8/dist-packages/seaborn/distributions.py:2619: FutureWarning: `distplot` is a deprecated function and will be removed in a future version. Please adapt your code to use either `displot` (a figure-level function with similar flexibility) or `histplot` (an axes-level function for histograms).\n",
            "  warnings.warn(msg, FutureWarning)\n",
            "/usr/local/lib/python3.8/dist-packages/seaborn/distributions.py:2619: FutureWarning: `distplot` is a deprecated function and will be removed in a future version. Please adapt your code to use either `displot` (a figure-level function with similar flexibility) or `histplot` (an axes-level function for histograms).\n",
            "  warnings.warn(msg, FutureWarning)\n",
            "/usr/local/lib/python3.8/dist-packages/seaborn/distributions.py:2619: FutureWarning: `distplot` is a deprecated function and will be removed in a future version. Please adapt your code to use either `displot` (a figure-level function with similar flexibility) or `histplot` (an axes-level function for histograms).\n",
            "  warnings.warn(msg, FutureWarning)\n",
            "/usr/local/lib/python3.8/dist-packages/seaborn/distributions.py:2619: FutureWarning: `distplot` is a deprecated function and will be removed in a future version. Please adapt your code to use either `displot` (a figure-level function with similar flexibility) or `histplot` (an axes-level function for histograms).\n",
            "  warnings.warn(msg, FutureWarning)\n"
          ]
        },
        {
          "data": {
            "text/plain": [
              "(30000000.0, 49964398238996.0)"
            ]
          },
          "execution_count": 20,
          "metadata": {},
          "output_type": "execute_result"
        },
        {
          "data": {
            "image/png": "[encoded data removed]",
            "text/plain": [
              "<Figure size 1152x1152 with 7 Axes>"
            ]
          },
          "metadata": {
            "needs_background": "light"
          },
          "output_type": "display_data"
        }
      ],
      "source": [
        "fig, ax = plt.subplots(7, 1,figsize=(16,16))\n",
        "fig.tight_layout()\n",
        "\n",
        "day_val = df.select(\"day\").rdd.flatMap(lambda x: x).collect()\n",
        "length_val = df.select(\"length\").rdd.flatMap(lambda x: x).collect()\n",
        "weight_val = df.select(\"weight\").rdd.flatMap(lambda x: x).collect()\n",
        "counted_val = df.select(\"count\").rdd.flatMap(lambda x: x).collect()\n",
        "looped_val = df.select(\"looped\").rdd.flatMap(lambda x: x).collect()\n",
        "neighbors_val = df.select(\"neighbors\").rdd.flatMap(lambda x: x).collect()\n",
        "income_val = df.select(\"income\").rdd.flatMap(lambda x: x).collect()\n",
        "\n",
        "sns.distplot(day_val, ax=ax[0], color='red')\n",
        "ax[0].set_title('Distribution of Day', fontsize=14)\n",
        "ax[0].set_xlim([min(day_val), max(day_val)])\n",
        "\n",
        "sns.distplot(length_val, ax=ax[1],color='orange')\n",
        "ax[1].set_title('Distribution of Length', fontsize=14)\n",
        "ax[1].set_xlim([min(length_val), max(length_val)])\n",
        "\n",
        "sns.distplot(weight_val, ax=ax[2],color='yellow')\n",
        "ax[2].set_title('Distribution of Weight', fontsize=14)\n",
        "ax[2].set_xlim([min(weight_val), max(weight_val)])\n",
        "\n",
        "sns.distplot(counted_val, ax=ax[3],color='green')\n",
        "ax[3].set_title('Distribution of Counted', fontsize=14)\n",
        "ax[3].set_xlim([min(counted_val), max(counted_val)])\n",
        "\n",
        "sns.distplot(looped_val, ax=ax[4],color='blue')\n",
        "ax[4].set_title('Distribution of Looped', fontsize=14)\n",
        "ax[4].set_xlim([min(looped_val), max(looped_val)])\n",
        "\n",
        "sns.distplot(neighbors_val, ax=ax[5],color='indigo')\n",
        "ax[5].set_title('Distribution of Neighbors', fontsize=14)\n",
        "ax[5].set_xlim([min(neighbors_val), max(neighbors_val)])\n",
        "\n",
        "sns.distplot(income_val, ax=ax[6],color='purple')\n",
        "ax[6].set_title('Distribution of Income', fontsize=14)\n",
        "ax[6].set_xlim([min(income_val), max(income_val)])"
      ]
    },
    {
      "cell_type": "markdown",
      "metadata": {
        "id": "KDCA-L_Y19Ui"
      },
      "source": [
        "Encode column of Label to a column of Label numeric"
      ]
    },
    {
      "cell_type": "code",
      "execution_count": 21,
      "metadata": {
        "id": "s0Yg83QLjx5d"
      },
      "outputs": [],
      "source": [
        "indexer = StringIndexer(inputCol='label', outputCol='label_numeric').fit(df)\n",
        "train_df = indexer.transform(df)"
      ]
    },
    {
      "cell_type": "code",
      "execution_count": 22,
      "metadata": {
        "colab": {
          "base_uri": "https://localhost:8080/"
        },
        "id": "Wbc_f492j49E",
        "outputId": "182ae7d3-8e89-46c8-de24-70cc609bc5a4"
      },
      "outputs": [
        {
          "name": "stdout",
          "output_type": "stream",
          "text": [
            "+--------------------+----+---+------+-------------------+-----+------+---------+--------+--------------------+-------------+\n",
            "|             address|year|day|length|             weight|count|looped|neighbors|  income|               label|label_numeric|\n",
            "+--------------------+----+---+------+-------------------+-----+------+---------+--------+--------------------+-------------+\n",
            "|111K8kZAEnJg245r2...|2017| 11|    18|0.00833333333333333|    1|     0|        2|1.0005E8|     princetonCerber|          3.0|\n",
            "|1123pJv8jzeFQaCV4...|2016|132|    44|      2.44140625E-4|    1|     0|        1|   1.0E8|      princetonLocky|          4.0|\n",
            "|112536im7hy6wtKbp...|2016|246|     0|                1.0|    1|     0|        2|   2.0E8|     princetonCerber|          3.0|\n",
            "|1126eDRw2wqSkWosj...|2016|322|    72|         0.00390625|    1|     0|        2|  7.12E7|     princetonCerber|          3.0|\n",
            "|1129TSjKtx65E35Gi...|2016|238|   144| 0.0728484071989931|  456|     0|        1|   2.0E8|      princetonLocky|          4.0|\n",
            "|112AmFATxzhuSpvtz...|2016| 96|   144| 0.0846139993386755| 2821|     0|        1|   5.0E7|      princetonLocky|          4.0|\n",
            "|112E91jxS2qrQY1z7...|2016|225|   142| 0.0020885186101272|  881|     0|        2|   1.0E8|     princetonCerber|          3.0|\n",
            "|112eFykaD53KEkKeY...|2016|324|    78|         0.00390625|    1|     0|        2|1.0099E8|     princetonCerber|          3.0|\n",
            "|112FTiRdJjMrNgEtd...|2016|298|   144|    2.3028283088657| 4220|     0|        2|   8.0E7|     princetonCerber|          3.0|\n",
            "|112GocBgFSnaote6k...|2016| 62|   112|3.72529029846191E-9|    1|     0|        1|   5.0E7|      princetonLocky|          4.0|\n",
            "|112gXL4AeJ62DX3ht...|2013|317|     4|0.00714285714285714|    2|     0|        1|   1.0E8|montrealCryptoLocker|          2.0|\n",
            "|112nEBUadWiMxzUUA...|2016|247|     0|                1.0|    1|     0|        2|1.0856E8|     princetonCerber|          3.0|\n",
            "|112Ns49UobQn1cX1G...|2016|146|   144|  0.877484787195917| 4817|     0|        1|1.0402E8|    montrealCryptXXX|          5.0|\n",
            "|112vq2Wt7Mo8RD5jC...|2017|  3|     4|           0.015625|    1|     0|        2|   5.6E7|     princetonCerber|          3.0|\n",
            "|112wED5uHhY1aiSaW...|2016|158|    56|    3.0517578125E-5|    1|     0|        1|   1.2E8|    montrealCryptXXX|          5.0|\n",
            "|112wED5uHhY1aiSaW...|2016|156|     8|               0.75|    2|     0|        4|   2.4E8|    montrealCryptXXX|          5.0|\n",
            "|112wjYgWapZU8gTPR...|2016|273|   144|0.00874675210903953| 1168|     0|        1|   5.5E8|      princetonLocky|          4.0|\n",
            "|1131P1hjj7h9NinHR...|2016| 56|     4|  0.145833333333333|    4|     0|        1|   5.0E8|      princetonLocky|          4.0|\n",
            "|1132fapAqQVQJjZip...|2016|165|    10| 0.0119047619047619|    1|     0|        2|   2.0E8|     princetonCerber|          3.0|\n",
            "|1136MFiqBmoVWpqWr...|2016|109|     0|                0.5|    1|     0|        1|  1.01E8|      princetonLocky|          4.0|\n",
            "+--------------------+----+---+------+-------------------+-----+------+---------+--------+--------------------+-------------+\n",
            "only showing top 20 rows\n",
            "\n"
          ]
        }
      ],
      "source": [
        "train_df.show()"
      ]
    },
    {
      "cell_type": "markdown",
      "metadata": {
        "id": "eJTvPZR02HJS"
      },
      "source": [
        "Drop unnecessary columns"
      ]
    },
    {
      "cell_type": "code",
      "execution_count": 23,
      "metadata": {
        "id": "0FBQFKlRep3D"
      },
      "outputs": [],
      "source": [
        "train_df = train_df.drop('address', 'year', 'day', 'label')"
      ]
    },
    {
      "cell_type": "markdown",
      "metadata": {
        "id": "KKjDYhHC2MLl"
      },
      "source": [
        "Display dataset after droping"
      ]
    },
    {
      "cell_type": "code",
      "execution_count": 24,
      "metadata": {
        "colab": {
          "base_uri": "https://localhost:8080/"
        },
        "id": "YVa2DrGUfDyV",
        "outputId": "f1ad7d97-b6cb-4d87-9f25-826fb3778b50"
      },
      "outputs": [
        {
          "name": "stdout",
          "output_type": "stream",
          "text": [
            "+------+-------------------+-----+------+---------+--------+-------------+\n",
            "|length|             weight|count|looped|neighbors|  income|label_numeric|\n",
            "+------+-------------------+-----+------+---------+--------+-------------+\n",
            "|    18|0.00833333333333333|    1|     0|        2|1.0005E8|          3.0|\n",
            "|    44|      2.44140625E-4|    1|     0|        1|   1.0E8|          4.0|\n",
            "|     0|                1.0|    1|     0|        2|   2.0E8|          3.0|\n",
            "|    72|         0.00390625|    1|     0|        2|  7.12E7|          3.0|\n",
            "|   144| 0.0728484071989931|  456|     0|        1|   2.0E8|          4.0|\n",
            "|   144| 0.0846139993386755| 2821|     0|        1|   5.0E7|          4.0|\n",
            "|   142| 0.0020885186101272|  881|     0|        2|   1.0E8|          3.0|\n",
            "|    78|         0.00390625|    1|     0|        2|1.0099E8|          3.0|\n",
            "|   144|    2.3028283088657| 4220|     0|        2|   8.0E7|          3.0|\n",
            "|   112|3.72529029846191E-9|    1|     0|        1|   5.0E7|          4.0|\n",
            "|     4|0.00714285714285714|    2|     0|        1|   1.0E8|          2.0|\n",
            "|     0|                1.0|    1|     0|        2|1.0856E8|          3.0|\n",
            "|   144|  0.877484787195917| 4817|     0|        1|1.0402E8|          5.0|\n",
            "|     4|           0.015625|    1|     0|        2|   5.6E7|          3.0|\n",
            "|    56|    3.0517578125E-5|    1|     0|        1|   1.2E8|          5.0|\n",
            "|     8|               0.75|    2|     0|        4|   2.4E8|          5.0|\n",
            "|   144|0.00874675210903953| 1168|     0|        1|   5.5E8|          4.0|\n",
            "|     4|  0.145833333333333|    4|     0|        1|   5.0E8|          4.0|\n",
            "|    10| 0.0119047619047619|    1|     0|        2|   2.0E8|          3.0|\n",
            "|     0|                0.5|    1|     0|        1|  1.01E8|          4.0|\n",
            "+------+-------------------+-----+------+---------+--------+-------------+\n",
            "only showing top 20 rows\n",
            "\n"
          ]
        }
      ],
      "source": [
        "train_df.show()"
      ]
    },
    {
      "cell_type": "markdown",
      "metadata": {
        "id": "3mS2aEYI2PgZ"
      },
      "source": [
        "Split data for training and testing"
      ]
    },
    {
      "cell_type": "code",
      "execution_count": 25,
      "metadata": {
        "id": "LUkzTe1GsufU"
      },
      "outputs": [],
      "source": [
        "(trainingData, testData) = train_df.randomSplit([0.8, 0.2], seed = 11)"
      ]
    },
    {
      "cell_type": "code",
      "execution_count": 26,
      "metadata": {
        "colab": {
          "base_uri": "https://localhost:8080/"
        },
        "id": "5UdlupWksxlM",
        "outputId": "a7abc0e6-9cdd-478a-a31e-9417779606a0"
      },
      "outputs": [
        {
          "name": "stdout",
          "output_type": "stream",
          "text": [
            "+------+-------------------+-----+------+---------+-----------+-------------+\n",
            "|length|             weight|count|looped|neighbors|     income|label_numeric|\n",
            "+------+-------------------+-----+------+---------+-----------+-------------+\n",
            "|     0|0.00170648464163823|    1|     0|        1|3.0706548E7|          0.0|\n",
            "|     0|0.00170648464163823|    1|     0|        1|3.2359742E7|          0.0|\n",
            "|     0|0.00170648464163823|    1|     0|        1|3.4161816E7|          0.0|\n",
            "|     0|0.00170648464163823|    1|     0|        1|3.5676176E7|          0.0|\n",
            "|     0|0.00170648464163823|    1|     0|        1|3.6033835E7|          0.0|\n",
            "|     0|0.00170648464163823|    1|     0|        1|4.4506409E7|          0.0|\n",
            "|     0|0.00170648464163823|    1|     0|        1|4.5042808E7|          0.0|\n",
            "|     0|0.00170648464163823|    1|     0|        1|4.9963347E7|          0.0|\n",
            "|     0|0.00170648464163823|    1|     0|        1|5.0085656E7|          0.0|\n",
            "|     0|0.00170648464163823|    1|     0|        1|5.3286347E7|          0.0|\n",
            "|     0|0.00170648464163823|    1|     0|        1| 5.829103E7|          0.0|\n",
            "|     0|0.00170648464163823|    1|     0|        1|6.3519033E7|          0.0|\n",
            "|     0|0.00170648464163823|    1|     0|        1|6.4775221E7|          0.0|\n",
            "|     0|0.00170648464163823|    1|     0|        1|6.5331125E7|          0.0|\n",
            "|     0|0.00170648464163823|    1|     0|        1|6.8386463E7|          0.0|\n",
            "|     0|0.00170648464163823|    1|     0|        1|7.1115789E7|          0.0|\n",
            "|     0|0.00170648464163823|    1|     0|        1|7.2772071E7|          0.0|\n",
            "|     0|0.00170648464163823|    1|     0|        1|7.8446787E7|          0.0|\n",
            "|     0|0.00170648464163823|    1|     0|        1|7.8725692E7|          0.0|\n",
            "|     0|0.00170648464163823|    1|     0|        1|8.3772453E7|          0.0|\n",
            "+------+-------------------+-----+------+---------+-----------+-------------+\n",
            "only showing top 20 rows\n",
            "\n"
          ]
        }
      ],
      "source": [
        "trainingData.show()"
      ]
    },
    {
      "cell_type": "code",
      "execution_count": 27,
      "metadata": {
        "colab": {
          "base_uri": "https://localhost:8080/"
        },
        "id": "7ApICHx7KSVZ",
        "outputId": "80bbc304-7a1d-447f-e1f4-fe1d3b27001b"
      },
      "outputs": [
        {
          "name": "stdout",
          "output_type": "stream",
          "text": [
            "+------+-------------------+-----+------+---------+------------+-------------+\n",
            "|length|             weight|count|looped|neighbors|      income|label_numeric|\n",
            "+------+-------------------+-----+------+---------+------------+-------------+\n",
            "|     0|0.00170648464163823|    1|     0|        1| 3.7398308E7|          0.0|\n",
            "|     0|0.00170648464163823|    1|     0|        1| 4.0591767E7|          0.0|\n",
            "|     0|0.00170648464163823|    1|     0|        1| 5.3966622E7|          0.0|\n",
            "|     0|0.00170648464163823|    1|     0|        1| 5.7374651E7|          0.0|\n",
            "|     0|0.00170648464163823|    1|     0|        1| 5.8050484E7|          0.0|\n",
            "|     0|0.00170648464163823|    1|     0|        1| 5.9661308E7|          0.0|\n",
            "|     0|0.00170648464163823|    1|     0|        1| 6.2540819E7|          0.0|\n",
            "|     0|0.00170648464163823|    1|     0|        1| 6.6509888E7|          0.0|\n",
            "|     0|0.00170648464163823|    1|     0|        1| 8.0874746E7|          0.0|\n",
            "|     0|0.00170648464163823|    1|     0|        1| 8.5064633E7|          0.0|\n",
            "|     0|0.00170648464163823|    1|     0|        1| 8.9648657E7|          0.0|\n",
            "|     0|0.00170648464163823|    1|     0|        1| 9.5903994E7|          0.0|\n",
            "|     0|0.00170648464163823|    1|     0|        1|1.00304136E8|          0.0|\n",
            "|     0|0.00298507462686567|    1|     0|        1| 3.3872048E7|          0.0|\n",
            "|     0|0.00298507462686567|    1|     0|        1| 4.2673837E7|          0.0|\n",
            "|     0|0.00298507462686567|    1|     0|        1|1.50298707E8|          0.0|\n",
            "|     0|0.00298507462686567|    1|     0|        1|2.58422057E8|          0.0|\n",
            "|     0|0.00298507462686567|    1|     0|        1|5.54415456E8|          0.0|\n",
            "|     0|0.00298507462686567|    1|     0|        2|1.23110098E8|          0.0|\n",
            "|     0|0.00389105058365759|    1|     0|        1|       1.0E8|          0.0|\n",
            "+------+-------------------+-----+------+---------+------------+-------------+\n",
            "only showing top 20 rows\n",
            "\n"
          ]
        }
      ],
      "source": [
        "testData.show()"
      ]
    },
    {
      "cell_type": "code",
      "execution_count": 76,
      "metadata": {
        "id": "lkvoiDsvmZlK"
      },
      "outputs": [],
      "source": [
        "inputCols = trainingData.columns[0: len (trainingData.columns) - 1]\n",
        "\n",
        "vecAssembler = VectorAssembler(inputCols = inputCols, outputCol = \"features\").setHandleInvalid(\"skip\")"
      ]
    },
    {
      "cell_type": "code",
      "execution_count": 75,
      "metadata": {
        "colab": {
          "base_uri": "https://localhost:8080/"
        },
        "id": "1uLjo2EF2PGn",
        "outputId": "b408248b-035e-416b-e8f0-043df60f21d2"
      },
      "outputs": [
        {
          "name": "stdout",
          "output_type": "stream",
          "text": [
            "+-------------------------------------------------+\n",
            "|features                                         |\n",
            "+-------------------------------------------------+\n",
            "|[0.0,0.00170648464163823,1.0,0.0,1.0,3.0706548E7]|\n",
            "|[0.0,0.00170648464163823,1.0,0.0,1.0,3.2359742E7]|\n",
            "|[0.0,0.00170648464163823,1.0,0.0,1.0,3.4161816E7]|\n",
            "|[0.0,0.00170648464163823,1.0,0.0,1.0,3.5676176E7]|\n",
            "|[0.0,0.00170648464163823,1.0,0.0,1.0,3.6033835E7]|\n",
            "+-------------------------------------------------+\n",
            "only showing top 5 rows\n",
            "\n"
          ]
        }
      ],
      "source": [
        "vecTrainDF = vecAssembler.transform(trainingData)\n",
        "vecTrainDF.select (\"features\").show(5, False)"
      ]
    },
    {
      "cell_type": "markdown",
      "metadata": {
        "id": "lcMFO5AS4WM_"
      },
      "source": [
        "Compute summary statistics by fitting the StandardScaler and Normalize each feature to have unit standard deviation."
      ]
    },
    {
      "cell_type": "code",
      "execution_count": 30,
      "metadata": {
        "id": "3OJSF5Rq2SH3"
      },
      "outputs": [],
      "source": [
        "stdScaler = StandardScaler(inputCol=\"features\", outputCol=\"scaledFeatures\", withStd=True, withMean=False)"
      ]
    },
    {
      "cell_type": "code",
      "execution_count": 54,
      "metadata": {
        "colab": {
          "base_uri": "https://localhost:8080/"
        },
        "id": "0yQcE4VE2oLe",
        "outputId": "91dcce1b-8e1e-4ec6-ee02-a55120f5c651"
      },
      "outputs": [
        {
          "name": "stdout",
          "output_type": "stream",
          "text": [
            "+--------------------------------------------------------------------------------------------+\n",
            "|scaledFeatures                                                                              |\n",
            "+--------------------------------------------------------------------------------------------+\n",
            "|[0.0,9.12216506480011E-4,0.002210946917406408,0.0,0.06264231319368924,1.0693774213066418E-4]|\n",
            "|[0.0,9.12216506480011E-4,0.002210946917406408,0.0,0.06264231319368924,1.1269510807306713E-4]|\n",
            "|[0.0,9.12216506480011E-4,0.002210946917406408,0.0,0.06264231319368924,1.1897095922743246E-4]|\n",
            "|[0.0,9.12216506480011E-4,0.002210946917406408,0.0,0.06264231319368924,1.2424482586893812E-4]|\n",
            "|[0.0,9.12216506480011E-4,0.002210946917406408,0.0,0.06264231319368924,1.2549039882988155E-4]|\n",
            "+--------------------------------------------------------------------------------------------+\n",
            "only showing top 5 rows\n",
            "\n"
          ]
        }
      ],
      "source": [
        "scalerModel = stdScaler.fit(vecTrainDF)\n",
        "\n",
        "scaledDataDF = scalerModel.transform(vecTrainDF)\n",
        "scaledDataDF.select (\"scaledFeatures\").show(5, False)"
      ]
    },
    {
      "cell_type": "markdown",
      "metadata": {
        "id": "aAA7C1E044_w"
      },
      "source": [
        "### Modelling"
      ]
    },
    {
      "cell_type": "code",
      "execution_count": 59,
      "metadata": {
        "id": "ZRWiZhB8Cb29"
      },
      "outputs": [],
      "source": [
        "evaluator = MulticlassClassificationEvaluator(labelCol='label_numeric', predictionCol=\"prediction\", metricName=\"accuracy\")"
      ]
    },
    {
      "cell_type": "markdown",
      "metadata": {
        "id": "l6g-4aMUNVez"
      },
      "source": [
        "LogisticRegression"
      ]
    },
    {
      "cell_type": "code",
      "execution_count": 66,
      "metadata": {
        "id": "c9dJkwvM2vK2"
      },
      "outputs": [],
      "source": [
        "\n",
        "lr = LogisticRegression(maxIter=5, regParam=0.3, elasticNetParam=0.1, featuresCol=\"scaledFeatures\", family = \"Multinomial\", labelCol='label_numeric')\n",
        "\n",
        "pipeline_lr = Pipeline(stages=[vecAssembler, stdScaler, lr])\n",
        "pipelineModel_lr = pipeline_lr.fit(trainingData)"
      ]
    },
    {
      "cell_type": "code",
      "execution_count": 67,
      "metadata": {
        "id": "8U0WXxUTLils"
      },
      "outputs": [],
      "source": [
        "predDF_lr = pipelineModel_lr.transform(testData)"
      ]
    },
    {
      "cell_type": "code",
      "execution_count": 68,
      "metadata": {
        "colab": {
          "base_uri": "https://localhost:8080/"
        },
        "id": "JpOoiQgJLjai",
        "outputId": "94177041-330a-4a26-fe0c-3db481b9b8a0"
      },
      "outputs": [
        {
          "name": "stdout",
          "output_type": "stream",
          "text": [
            "Accuracy of LogisticRegression is = 0.937544\n",
            "Test Error of LogisticRegression = 0.0624559 \n"
          ]
        }
      ],
      "source": [
        "lr_accuracy = evaluator.evaluate(predDF_lr)\n",
        "print(\"Accuracy of LogisticRegression is = %g\"%(lr_accuracy))\n",
        "print(\"Test Error of LogisticRegression = %g \"%(1.0 - lr_accuracy))"
      ]
    },
    {
      "cell_type": "markdown",
      "metadata": {
        "id": "24Kl9s38Pqn-"
      },
      "source": [
        "RandomForestClassifier"
      ]
    },
    {
      "cell_type": "code",
      "execution_count": 69,
      "metadata": {
        "id": "V7TqgGlmPZcF"
      },
      "outputs": [],
      "source": [
        "\n",
        "# Train a RandomForest model.\n",
        "rf = RandomForestClassifier(labelCol='label_numeric', \\\n",
        "                            featuresCol=\"scaledFeatures\", \\\n",
        "                            numTrees=50)\n",
        "\n",
        "pipeline_rf = Pipeline(stages=[vecAssembler, stdScaler, rf])\n",
        "pipelineModel_rf = pipeline_rf.fit(trainingData)"
      ]
    },
    {
      "cell_type": "code",
      "execution_count": 70,
      "metadata": {
        "id": "ghjqk7DIPuJ-"
      },
      "outputs": [],
      "source": [
        "predDF_rf = pipelineModel_rf.transform (testData)"
      ]
    },
    {
      "cell_type": "code",
      "execution_count": 71,
      "metadata": {
        "colab": {
          "base_uri": "https://localhost:8080/"
        },
        "id": "p43pwBwFPxjT",
        "outputId": "6ebea75b-4629-44f2-bff2-fe2160bba1e6"
      },
      "outputs": [
        {
          "name": "stdout",
          "output_type": "stream",
          "text": [
            "Accuracy of Random Tree is = 0.940555\n",
            "Error of Random Tree is = 0.059445 \n"
          ]
        }
      ],
      "source": [
        "rf_accuracy = evaluator.evaluate(predDF_rf)\n",
        "print(\"Accuracy of Random Tree is = %g\"%(rf_accuracy))\n",
        "print(\"Error of Random Tree is = %g \"%(1.0 - rf_accuracy))"
      ]
    },
    {
      "cell_type": "markdown",
      "metadata": {
        "id": "vg27CM3bvmmK"
      },
      "source": [
        "NaiveBayes"
      ]
    },
    {
      "cell_type": "code",
      "execution_count": 77,
      "metadata": {
        "id": "pFgJt3GJuw1U"
      },
      "outputs": [],
      "source": [
        "nb = NaiveBayes(smoothing=1.0, modelType=\"multinomial\", labelCol='label_numeric')\n",
        "\n",
        "pipeline_nb = Pipeline(stages=[vecAssembler, stdScaler, nb])\n",
        "pipelineModel_nb = pipeline_nb.fit(trainingData)"
      ]
    },
    {
      "cell_type": "code",
      "execution_count": 78,
      "metadata": {
        "id": "BacPscdLu-0S"
      },
      "outputs": [],
      "source": [
        "predDF_nb = pipelineModel_nb.transform(testData)"
      ]
    },
    {
      "cell_type": "code",
      "execution_count": 79,
      "metadata": {
        "colab": {
          "base_uri": "https://localhost:8080/"
        },
        "id": "ElZsBQ5HvZ-n",
        "outputId": "6b9bced7-a28f-4a6b-f9f4-cb39ddc62f68"
      },
      "outputs": [
        {
          "name": "stdout",
          "output_type": "stream",
          "text": [
            "Accuracy of Random Tree is = 0.385698\n",
            "Error of Random Tree is = 0.614302 \n"
          ]
        }
      ],
      "source": [
        "nb_accuracy = evaluator.evaluate(predDF_nb)\n",
        "print(\"Accuracy of Random Tree is = %g\"%(nb_accuracy))\n",
        "print(\"Error of Random Tree is = %g \"%(1.0 - nb_accuracy))"
      ]
    },
    {
      "cell_type": "code",
      "execution_count": null,
      "metadata": {
        "id": "EnJGN8ko5LSM"
      },
      "outputs": [],
      "source": []
    }
  ],
  "metadata": {
    "colab": {
      "provenance": []
    },
    "kernelspec": {
      "display_name": "Python 3",
      "name": "python3"
    },
    "language_info": {
      "name": "python"
    }
  },
  "nbformat": 4,
  "nbformat_minor": 0
}
